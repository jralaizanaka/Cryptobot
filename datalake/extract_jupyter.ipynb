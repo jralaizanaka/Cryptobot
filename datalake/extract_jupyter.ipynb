{
 "cells": [
  {
   "cell_type": "code",
   "execution_count": 5,
   "metadata": {},
   "outputs": [
    {
     "data": {
      "text/plain": [
       "<Response [200]>"
      ]
     },
     "execution_count": 5,
     "metadata": {},
     "output_type": "execute_result"
    }
   ],
   "source": [
    "from zipfile import ZipFile\n",
    "import wget\n",
    "\n",
    "def unzip_file(name_zip):\n",
    "\n",
    "    with ZipFile(name_zip, \"r\") as zipObj:\n",
    "        # Extract all the contents of zip file in current directory\n",
    "        zipObj.extractall()\n",
    "\n",
    "symbol = \"BNBUSDT\"\n",
    "interval = \"1d\" \n",
    "year = \"2022\"\n",
    "month = \"08\"\n",
    "\n",
    "name_zip = f\"{symbol}-{interval}-{year}-{month}.zip\"\n",
    "#\"ADABKRW-1h-2020-08.zip\"\n",
    "#unzip_file(name_zip)\n",
    "#print(name_zip)\n",
    "#unzip_file(name_zip)\n",
    "url= \"https://data.binance.vision/data/spot/monthly/trades/BNBUSDT/BNBUSDT-trades-2019-01.zip\"\n",
    "#requests.get(url)\n",
    "wget url"
   ]
  }
 ],
 "metadata": {
  "kernelspec": {
   "display_name": "Python 3.8.10 ('test_env': venv)",
   "language": "python",
   "name": "python3"
  },
  "language_info": {
   "codemirror_mode": {
    "name": "ipython",
    "version": 3
   },
   "file_extension": ".py",
   "mimetype": "text/x-python",
   "name": "python",
   "nbconvert_exporter": "python",
   "pygments_lexer": "ipython3",
   "version": "3.8.10"
  },
  "orig_nbformat": 4,
  "vscode": {
   "interpreter": {
    "hash": "872ac4c322b0e9341595054986f24589f3c4a7a50e2f153f5b1966b46dd536fa"
   }
  }
 },
 "nbformat": 4,
 "nbformat_minor": 2
}
